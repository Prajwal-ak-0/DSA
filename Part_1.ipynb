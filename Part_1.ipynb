{
  "nbformat": 4,
  "nbformat_minor": 0,
  "metadata": {
    "colab": {
      "provenance": [],
      "authorship_tag": "ABX9TyOBIPbUshiaxuZoc8npUx98",
      "include_colab_link": true
    },
    "kernelspec": {
      "name": "python3",
      "display_name": "Python 3"
    },
    "language_info": {
      "name": "python"
    }
  },
  "cells": [
    {
      "cell_type": "markdown",
      "metadata": {
        "id": "view-in-github",
        "colab_type": "text"
      },
      "source": [
        "<a href=\"https://colab.research.google.com/github/Prajwal-ak-0/machine-learning-1/blob/main/Part_1.ipynb\" target=\"_parent\"><img src=\"https://colab.research.google.com/assets/colab-badge.svg\" alt=\"Open In Colab\"/></a>"
      ]
    },
    {
      "cell_type": "markdown",
      "source": [
        "# 1. Introduction to Machine Learning and Deep Learning\n",
        "\n",
        "**Machine Learning (ML)**: A branch of AI that learns from data and predicts unseen data. It can be applied everywhere, as long as we are able to convert the data into numbers, program it, and find patterns.\n",
        "\n",
        "### Differences between ML and DL\n",
        "* **Machine Learning (ML)** is generally applied to structured data.\n",
        "* **Deep Learning (DL)**, a subset of ML, is typically applied to unstructured data.\n",
        "\n",
        "### When to Apply ML/DL\n",
        "* When we cannot specify all the rules we are going to encounter and the environment keeps changing with time.\n",
        "* When there is a large amount of data, we can use ML/DL to gain insights.\n",
        "\n",
        "### When Not to Apply DL\n",
        "* If we can solve the problem with simple ML, it is better to avoid DL as it requires more computation.\n",
        "* In the absence of large data, ML is preferred to deliver accurate results.\n",
        "\n",
        "![Machine Learning vs Deep Learning](https://assets-global.website-files.com/5fb24a974499e90dae242d98/60f6fcbbeb0b8f57a7980a98_5f213db7c7763a9288759ad1_5eac2d0ef117c236e34cc0ff_DeepLearning.jpeg)\n",
        "\n",
        "# Artificial Neural Network (ANN)\n",
        "\n",
        "**Artificial Neural Network (ANN)**: A model inspired by the structure and function of biological neural networks. It consists of:\n",
        "\n",
        "1. **Input Layer**: The incoming data is fed into this layer. Generally, it is a single layer.\n",
        "2. **Hidden Layer(s)**: The model can consist of any number of hidden layers. Each layer helps in feature extraction.\n",
        "3. **Output Layer**: Based on the extracted features, this layer makes the final decision.\n",
        "\n",
        "\n"
      ],
      "metadata": {
        "id": "gFz3-66EKQJh"
      }
    },
    {
      "cell_type": "markdown",
      "source": [
        "# 2. Tensorflow basics\n",
        "\n",
        "**TensorFlow**: An end-to-end open-source machine learning platform used to develop models for various tasks, including natural language processing, image recognition, etc.\n",
        "\n",
        "* Contains prebuilt models.\n",
        "* Provides the tools to build or customize a model.\n"
      ],
      "metadata": {
        "id": "kFKDX9xZcTEv"
      }
    },
    {
      "cell_type": "code",
      "source": [
        "import tensorflow as tf"
      ],
      "metadata": {
        "id": "bpJWy7j9gYY4"
      },
      "execution_count": 4,
      "outputs": []
    },
    {
      "cell_type": "code",
      "source": [
        "scalar = tf.constant(10)\n",
        "scalar"
      ],
      "metadata": {
        "colab": {
          "base_uri": "https://localhost:8080/"
        },
        "id": "CUMXD_c2dBMY",
        "outputId": "b3de4067-2e87-450f-f901-7a156a9bfe63"
      },
      "execution_count": 5,
      "outputs": [
        {
          "output_type": "execute_result",
          "data": {
            "text/plain": [
              "<tf.Tensor: shape=(), dtype=int32, numpy=10>"
            ]
          },
          "metadata": {},
          "execution_count": 5
        }
      ]
    },
    {
      "cell_type": "code",
      "source": [
        "vector = tf.constant([10,20,30,40])\n",
        "vector"
      ],
      "metadata": {
        "colab": {
          "base_uri": "https://localhost:8080/"
        },
        "id": "mT-kh41ggUk_",
        "outputId": "b0cc7dae-e2df-4172-8c3e-783225bdbc8a"
      },
      "execution_count": 6,
      "outputs": [
        {
          "output_type": "execute_result",
          "data": {
            "text/plain": [
              "<tf.Tensor: shape=(4,), dtype=int32, numpy=array([10, 20, 30, 40], dtype=int32)>"
            ]
          },
          "metadata": {},
          "execution_count": 6
        }
      ]
    },
    {
      "cell_type": "code",
      "source": [
        "matrix = tf.constant([[10,20,30,40], [40,50,60,80]])\n",
        "matrix"
      ],
      "metadata": {
        "colab": {
          "base_uri": "https://localhost:8080/"
        },
        "id": "e9L45dHohb08",
        "outputId": "d1c1c02e-15f1-4d6e-b6cd-37a1bc67f567"
      },
      "execution_count": 12,
      "outputs": [
        {
          "output_type": "execute_result",
          "data": {
            "text/plain": [
              "<tf.Tensor: shape=(2, 4), dtype=int32, numpy=\n",
              "array([[10, 20, 30, 40],\n",
              "       [40, 50, 60, 80]], dtype=int32)>"
            ]
          },
          "metadata": {},
          "execution_count": 12
        }
      ]
    },
    {
      "cell_type": "code",
      "source": [
        "tensor = tf.constant([[[10,20,30],[40,50,60]], [[10,20,30],[40,50,60]], [[10,20,30],[40,50,60]], [[10,20,30],[40,50,60]]])\n",
        "tensor"
      ],
      "metadata": {
        "colab": {
          "base_uri": "https://localhost:8080/"
        },
        "id": "EV2fsk5AglO6",
        "outputId": "958d60c8-3276-4938-c8c6-025b1c158847"
      },
      "execution_count": 15,
      "outputs": [
        {
          "output_type": "execute_result",
          "data": {
            "text/plain": [
              "<tf.Tensor: shape=(4, 2, 3), dtype=int32, numpy=\n",
              "array([[[10, 20, 30],\n",
              "        [40, 50, 60]],\n",
              "\n",
              "       [[10, 20, 30],\n",
              "        [40, 50, 60]],\n",
              "\n",
              "       [[10, 20, 30],\n",
              "        [40, 50, 60]],\n",
              "\n",
              "       [[10, 20, 30],\n",
              "        [40, 50, 60]]], dtype=int32)>"
            ]
          },
          "metadata": {},
          "execution_count": 15
        }
      ]
    }
  ]
}