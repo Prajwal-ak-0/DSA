{
  "nbformat": 4,
  "nbformat_minor": 0,
  "metadata": {
    "colab": {
      "provenance": [],
      "authorship_tag": "ABX9TyMVwRg7NL3NEJd0GCYdinl9",
      "include_colab_link": true
    },
    "kernelspec": {
      "name": "python3",
      "display_name": "Python 3"
    },
    "language_info": {
      "name": "python"
    }
  },
  "cells": [
    {
      "cell_type": "markdown",
      "metadata": {
        "id": "view-in-github",
        "colab_type": "text"
      },
      "source": [
        "<a href=\"https://colab.research.google.com/github/Prajwal-ak-0/machine-learning-1/blob/main/Part_1.ipynb\" target=\"_parent\"><img src=\"https://colab.research.google.com/assets/colab-badge.svg\" alt=\"Open In Colab\"/></a>"
      ]
    },
    {
      "cell_type": "markdown",
      "source": [
        "# Introduction to Machine Learning and Deep Learning\n",
        "\n",
        "**Machine Learning (ML)**: A branch of AI that learns from data and predicts unseen data. It can be applied everywhere, as long as we are able to convert the data into numbers, program it, and find patterns.\n",
        "\n",
        "### Differences between ML and DL\n",
        "* **Machine Learning (ML)** is generally applied to structured data.\n",
        "* **Deep Learning (DL)**, a subset of ML, is typically applied to unstructured data.\n",
        "\n",
        "### When to Apply ML/DL\n",
        "* When we cannot specify all the rules we are going to encounter and the environment keeps changing with time.\n",
        "* When there is a large amount of data, we can use ML/DL to gain insights.\n",
        "\n",
        "### When Not to Apply DL\n",
        "* If we can solve the problem with simple ML, it is better to avoid DL as it requires more computation.\n",
        "* In the absence of large data, ML is preferred to deliver accurate results.\n",
        "\n",
        "![Machine Learning vs Deep Learning](https://assets-global.website-files.com/5fb24a974499e90dae242d98/60f6fcbbeb0b8f57a7980a98_5f213db7c7763a9288759ad1_5eac2d0ef117c236e34cc0ff_DeepLearning.jpeg)\n",
        "\n",
        "# Artificial Neural Network (ANN)\n",
        "\n",
        "**Artificial Neural Network (ANN)**: A model inspired by the structure and function of biological neural networks. It consists of:\n",
        "\n",
        "1. **Input Layer**: The incoming data is fed into this layer. Generally, it is a single layer.\n",
        "2. **Hidden Layer(s)**: The model can consist of any number of hidden layers. Each layer helps in feature extraction.\n",
        "3. **Output Layer**: Based on the extracted features, this layer makes the final decision.\n",
        "\n",
        "\n",
        "\n"
      ],
      "metadata": {
        "id": "gFz3-66EKQJh"
      }
    },
    {
      "cell_type": "code",
      "source": [],
      "metadata": {
        "id": "A1pZZ3oiNUdq"
      },
      "execution_count": null,
      "outputs": []
    }
  ]
}